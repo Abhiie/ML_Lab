{
  "nbformat": 4,
  "nbformat_minor": 0,
  "metadata": {
    "colab": {
      "name": "Lab8_ML.ipynb",
      "provenance": [],
      "mount_file_id": "1YzvdkwdlUS-b9XnKRFiKUdYUdxiTyvBY",
      "authorship_tag": "ABX9TyMrQe8j/ZbNRllViYMlzT4X",
      "include_colab_link": true
    },
    "kernelspec": {
      "name": "python3",
      "display_name": "Python 3"
    },
    "language_info": {
      "name": "python"
    }
  },
  "cells": [
    {
      "cell_type": "markdown",
      "metadata": {
        "id": "view-in-github",
        "colab_type": "text"
      },
      "source": [
        "<a href=\"https://colab.research.google.com/github/Abhiie/ML_Lab/blob/main/Lab8_ML.ipynb\" target=\"_parent\"><img src=\"https://colab.research.google.com/assets/colab-badge.svg\" alt=\"Open In Colab\"/></a>"
      ]
    },
    {
      "cell_type": "code",
      "source": [
        "!pip install tensorflow"
      ],
      "metadata": {
        "colab": {
          "base_uri": "https://localhost:8080/"
        },
        "id": "1Xht4srB4OBT",
        "outputId": "8a7fda15-9f69-4f19-b326-947c7fcc2b13"
      },
      "execution_count": null,
      "outputs": [
        {
          "output_type": "stream",
          "name": "stdout",
          "text": [
            "Requirement already satisfied: tensorflow in /usr/local/lib/python3.7/dist-packages (2.8.0)\n",
            "Requirement already satisfied: typing-extensions>=3.6.6 in /usr/local/lib/python3.7/dist-packages (from tensorflow) (3.10.0.2)\n",
            "Requirement already satisfied: flatbuffers>=1.12 in /usr/local/lib/python3.7/dist-packages (from tensorflow) (2.0)\n",
            "Requirement already satisfied: keras-preprocessing>=1.1.1 in /usr/local/lib/python3.7/dist-packages (from tensorflow) (1.1.2)\n",
            "Requirement already satisfied: termcolor>=1.1.0 in /usr/local/lib/python3.7/dist-packages (from tensorflow) (1.1.0)\n",
            "Requirement already satisfied: setuptools in /usr/local/lib/python3.7/dist-packages (from tensorflow) (57.4.0)\n",
            "Requirement already satisfied: six>=1.12.0 in /usr/local/lib/python3.7/dist-packages (from tensorflow) (1.15.0)\n",
            "Requirement already satisfied: tensorflow-io-gcs-filesystem>=0.23.1 in /usr/local/lib/python3.7/dist-packages (from tensorflow) (0.24.0)\n",
            "Requirement already satisfied: astunparse>=1.6.0 in /usr/local/lib/python3.7/dist-packages (from tensorflow) (1.6.3)\n",
            "Collecting tf-estimator-nightly==2.8.0.dev2021122109\n",
            "  Downloading tf_estimator_nightly-2.8.0.dev2021122109-py2.py3-none-any.whl (462 kB)\n",
            "\u001b[K     |████████████████████████████████| 462 kB 5.0 MB/s \n",
            "\u001b[?25hRequirement already satisfied: absl-py>=0.4.0 in /usr/local/lib/python3.7/dist-packages (from tensorflow) (1.0.0)\n",
            "Requirement already satisfied: keras<2.9,>=2.8.0rc0 in /usr/local/lib/python3.7/dist-packages (from tensorflow) (2.8.0)\n",
            "Requirement already satisfied: opt-einsum>=2.3.2 in /usr/local/lib/python3.7/dist-packages (from tensorflow) (3.3.0)\n",
            "Requirement already satisfied: tensorboard<2.9,>=2.8 in /usr/local/lib/python3.7/dist-packages (from tensorflow) (2.8.0)\n",
            "Requirement already satisfied: h5py>=2.9.0 in /usr/local/lib/python3.7/dist-packages (from tensorflow) (3.1.0)\n",
            "Requirement already satisfied: numpy>=1.20 in /usr/local/lib/python3.7/dist-packages (from tensorflow) (1.21.5)\n",
            "Requirement already satisfied: libclang>=9.0.1 in /usr/local/lib/python3.7/dist-packages (from tensorflow) (13.0.0)\n",
            "Requirement already satisfied: google-pasta>=0.1.1 in /usr/local/lib/python3.7/dist-packages (from tensorflow) (0.2.0)\n",
            "Requirement already satisfied: grpcio<2.0,>=1.24.3 in /usr/local/lib/python3.7/dist-packages (from tensorflow) (1.44.0)\n",
            "Requirement already satisfied: gast>=0.2.1 in /usr/local/lib/python3.7/dist-packages (from tensorflow) (0.5.3)\n",
            "Requirement already satisfied: wrapt>=1.11.0 in /usr/local/lib/python3.7/dist-packages (from tensorflow) (1.13.3)\n",
            "Requirement already satisfied: protobuf>=3.9.2 in /usr/local/lib/python3.7/dist-packages (from tensorflow) (3.17.3)\n",
            "Requirement already satisfied: wheel<1.0,>=0.23.0 in /usr/local/lib/python3.7/dist-packages (from astunparse>=1.6.0->tensorflow) (0.37.1)\n",
            "Requirement already satisfied: cached-property in /usr/local/lib/python3.7/dist-packages (from h5py>=2.9.0->tensorflow) (1.5.2)\n",
            "Requirement already satisfied: google-auth<3,>=1.6.3 in /usr/local/lib/python3.7/dist-packages (from tensorboard<2.9,>=2.8->tensorflow) (1.35.0)\n",
            "Requirement already satisfied: requests<3,>=2.21.0 in /usr/local/lib/python3.7/dist-packages (from tensorboard<2.9,>=2.8->tensorflow) (2.23.0)\n",
            "Requirement already satisfied: markdown>=2.6.8 in /usr/local/lib/python3.7/dist-packages (from tensorboard<2.9,>=2.8->tensorflow) (3.3.6)\n",
            "Requirement already satisfied: google-auth-oauthlib<0.5,>=0.4.1 in /usr/local/lib/python3.7/dist-packages (from tensorboard<2.9,>=2.8->tensorflow) (0.4.6)\n",
            "Requirement already satisfied: tensorboard-plugin-wit>=1.6.0 in /usr/local/lib/python3.7/dist-packages (from tensorboard<2.9,>=2.8->tensorflow) (1.8.1)\n",
            "Requirement already satisfied: werkzeug>=0.11.15 in /usr/local/lib/python3.7/dist-packages (from tensorboard<2.9,>=2.8->tensorflow) (1.0.1)\n",
            "Requirement already satisfied: tensorboard-data-server<0.7.0,>=0.6.0 in /usr/local/lib/python3.7/dist-packages (from tensorboard<2.9,>=2.8->tensorflow) (0.6.1)\n",
            "Requirement already satisfied: pyasn1-modules>=0.2.1 in /usr/local/lib/python3.7/dist-packages (from google-auth<3,>=1.6.3->tensorboard<2.9,>=2.8->tensorflow) (0.2.8)\n",
            "Requirement already satisfied: cachetools<5.0,>=2.0.0 in /usr/local/lib/python3.7/dist-packages (from google-auth<3,>=1.6.3->tensorboard<2.9,>=2.8->tensorflow) (4.2.4)\n",
            "Requirement already satisfied: rsa<5,>=3.1.4 in /usr/local/lib/python3.7/dist-packages (from google-auth<3,>=1.6.3->tensorboard<2.9,>=2.8->tensorflow) (4.8)\n",
            "Requirement already satisfied: requests-oauthlib>=0.7.0 in /usr/local/lib/python3.7/dist-packages (from google-auth-oauthlib<0.5,>=0.4.1->tensorboard<2.9,>=2.8->tensorflow) (1.3.1)\n",
            "Requirement already satisfied: importlib-metadata>=4.4 in /usr/local/lib/python3.7/dist-packages (from markdown>=2.6.8->tensorboard<2.9,>=2.8->tensorflow) (4.11.2)\n",
            "Requirement already satisfied: zipp>=0.5 in /usr/local/lib/python3.7/dist-packages (from importlib-metadata>=4.4->markdown>=2.6.8->tensorboard<2.9,>=2.8->tensorflow) (3.7.0)\n",
            "Requirement already satisfied: pyasn1<0.5.0,>=0.4.6 in /usr/local/lib/python3.7/dist-packages (from pyasn1-modules>=0.2.1->google-auth<3,>=1.6.3->tensorboard<2.9,>=2.8->tensorflow) (0.4.8)\n",
            "Requirement already satisfied: idna<3,>=2.5 in /usr/local/lib/python3.7/dist-packages (from requests<3,>=2.21.0->tensorboard<2.9,>=2.8->tensorflow) (2.10)\n",
            "Requirement already satisfied: chardet<4,>=3.0.2 in /usr/local/lib/python3.7/dist-packages (from requests<3,>=2.21.0->tensorboard<2.9,>=2.8->tensorflow) (3.0.4)\n",
            "Requirement already satisfied: urllib3!=1.25.0,!=1.25.1,<1.26,>=1.21.1 in /usr/local/lib/python3.7/dist-packages (from requests<3,>=2.21.0->tensorboard<2.9,>=2.8->tensorflow) (1.24.3)\n",
            "Requirement already satisfied: certifi>=2017.4.17 in /usr/local/lib/python3.7/dist-packages (from requests<3,>=2.21.0->tensorboard<2.9,>=2.8->tensorflow) (2021.10.8)\n",
            "Requirement already satisfied: oauthlib>=3.0.0 in /usr/local/lib/python3.7/dist-packages (from requests-oauthlib>=0.7.0->google-auth-oauthlib<0.5,>=0.4.1->tensorboard<2.9,>=2.8->tensorflow) (3.2.0)\n",
            "Installing collected packages: tf-estimator-nightly\n",
            "Successfully installed tf-estimator-nightly-2.8.0.dev2021122109\n"
          ]
        }
      ]
    },
    {
      "cell_type": "code",
      "execution_count": null,
      "metadata": {
        "colab": {
          "base_uri": "https://localhost:8080/"
        },
        "id": "qjNr2KJq3lN4",
        "outputId": "8277d02e-4410-46d6-f5ed-4fb38abcb371"
      },
      "outputs": [
        {
          "output_type": "stream",
          "name": "stdout",
          "text": [
            "\n",
            "Data :\n",
            "        v1                                                 v2\n",
            "0    spam  Free entry in 2 a wkly comp to win FA Cup fina...\n",
            "1    spam  FreeMsg Hey there darling it's been 3 week's n...\n",
            "2    spam  WINNER!! As a valued network customer you have...\n",
            "3    spam  Had your mobile 11 months or more? U R entitle...\n",
            "4    spam  SIX chances to win CASH! From 100 to 20,000 po...\n",
            "..    ...                                                ...\n",
            "508  spam  This is the 2nd time we have tried 2 contact u...\n",
            "509   ham              Will �_ b going to esplanade fr home?\n",
            "510   ham  Pity, * was in mood for that. So...any other s...\n",
            "511   ham  The guy did some bitching but I acted like i'd...\n",
            "512   ham                         Rofl. Its true to its name\n",
            "\n",
            "[513 rows x 2 columns]\n",
            "<class 'pandas.core.frame.DataFrame'>\n",
            "RangeIndex: 513 entries, 0 to 512\n",
            "Data columns (total 2 columns):\n",
            " #   Column  Non-Null Count  Dtype \n",
            "---  ------  --------------  ----- \n",
            " 0   v1      513 non-null    object\n",
            " 1   v2      513 non-null    object\n",
            "dtypes: object(2)\n",
            "memory usage: 8.1+ KB\n",
            "\n",
            "Data statistics\n",
            " None\n"
          ]
        }
      ],
      "source": [
        "import gensim\n",
        "import pandas as pd\n",
        "from tensorflow.keras.preprocessing.text import Tokenizer\n",
        "from tensorflow.keras.preprocessing.sequence import pad_sequences\n",
        "from sklearn.feature_extraction.text import CountVectorizer\n",
        "from sklearn.preprocessing import LabelEncoder\n",
        "\n",
        "stopwords = [ \"a\", \"about\", \"above\", \"after\", \"again\", \"against\", \"all\", \"am\",\n",
        "\"an\", \"and\", \"any\", \"are\", \"as\", \"at\", \"be\", \"because\", \"been\", \"before\",\n",
        "\"being\", \"below\", \"between\", \"both\", \"but\", \"by\", \"could\", \"did\", \"do\",\n",
        "\"does\", \"doing\", \"down\", \"during\", \"each\", \"few\", \"for\", \"from\", \"further\",\n",
        "\"had\", \"has\", \"have\", \"having\", \"he\", \"he'd\", \"he'll\", \"he's\", \"her\", \"here\",\n",
        "\"here's\", \"hers\", \"herself\", \"him\", \"himself\", \"his\", \"how\", \"how's\", \"i\",\n",
        "\"i'd\", \"i'll\", \"i'm\", \"i've\", \"if\", \"in\", \"into\", \"is\", \"it\", \"it's\", \"its\",\n",
        "\"itself\", \"let's\", \"me\", \"more\", \"most\", \"my\", \"myself\", \"nor\", \"of\", \"on\",\n",
        "\"once\", \"only\", \"or\", \"other\", \"ought\", \"our\", \"ours\", \"ourselves\", \"out\",\n",
        "\"over\", \"own\", \"same\", \"she\", \"she'd\", \"she'll\", \"she's\", \"should\", \"so\",\n",
        "\"some\", \"such\", \"than\", \"that\", \"that's\", \"the\", \"their\", \"theirs\", \"them\",\n",
        "\"themselves\", \"then\", \"there\", \"there's\", \"these\", \"they\", \"they'd\",\n",
        "\"they'll\", \"they're\", \"they've\", \"this\", \"those\", \"through\", \"to\", \"too\",\n",
        "\"under\", \"until\", \"up\", \"very\", \"was\", \"we\", \"we'd\", \"we'll\", \"we're\",\n",
        "\"we've\", \"were\", \"what\", \"what's\", \"when\", \"when's\", \"where\", \"where's\",\n",
        "\"which\", \"while\", \"who\", \"who's\", \"whom\", \"why\", \"why's\", \"with\", \"would\",\n",
        "\"you\", \"you'd\", \"you'll\", \"you're\", \"you've\", \"your\", \"yours\", \"yourself\",\n",
        "\"yourselves\" ]\n",
        "datasets = pd.read_csv('/spam1.csv')\n",
        "print(\"\\nData :\\n\",datasets)\n",
        "print(\"\\nData statistics\\n\",datasets.info())"
      ]
    },
    {
      "cell_type": "code",
      "source": [
        "#countvectorize\n",
        "import pandas as pd\n",
        "from tensorflow.keras.preprocessing.text import Tokenizer\n",
        "from tensorflow.keras.preprocessing.sequence import pad_sequences\n",
        "from sklearn.feature_extraction.text import CountVectorizer\n",
        "from sklearn.preprocessing import LabelEncoder\n",
        "\n",
        "stopwords = [ \"a\", \"about\", \"above\", \"after\", \"again\", \"against\", \"all\", \"am\",\n",
        "\"an\", \"and\", \"any\", \"are\", \"as\", \"at\", \"be\", \"because\", \"been\", \"before\",\n",
        "\"being\", \"below\", \"between\", \"both\", \"but\", \"by\", \"could\", \"did\", \"do\",\n",
        "\"does\", \"doing\", \"down\", \"during\", \"each\", \"few\", \"for\", \"from\", \"further\",\n",
        "\"had\", \"has\", \"have\", \"having\", \"he\", \"he'd\", \"he'll\", \"he's\", \"her\", \"here\",\n",
        "\"here's\", \"hers\", \"herself\", \"him\", \"himself\", \"his\", \"how\", \"how's\", \"i\",\n",
        "\"i'd\", \"i'll\", \"i'm\", \"i've\", \"if\", \"in\", \"into\", \"is\", \"it\", \"it's\", \"its\",\n",
        "\"itself\", \"let's\", \"me\", \"more\", \"most\", \"my\", \"myself\", \"nor\", \"of\", \"on\",\n",
        "\"once\", \"only\", \"or\", \"other\", \"ought\", \"our\", \"ours\", \"ourselves\", \"out\",\n",
        "\"over\", \"own\", \"same\", \"she\", \"she'd\", \"she'll\", \"she's\", \"should\", \"so\",\n",
        "\"some\", \"such\", \"than\", \"that\", \"that's\", \"the\", \"their\", \"theirs\", \"them\",\n",
        "\"themselves\", \"then\", \"there\", \"there's\", \"these\", \"they\", \"they'd\",\n",
        "\"they'll\", \"they're\", \"they've\", \"this\", \"those\", \"through\", \"to\", \"too\",\n",
        "\"under\", \"until\", \"up\", \"very\", \"was\", \"we\", \"we'd\", \"we'll\", \"we're\",\n",
        "\"we've\", \"were\", \"what\", \"what's\", \"when\", \"when's\", \"where\", \"where's\",\n",
        "\"which\", \"while\", \"who\", \"who's\", \"whom\", \"why\", \"why's\", \"with\", \"would\",\n",
        "\"you\", \"you'd\", \"you'll\", \"you're\", \"you've\", \"your\", \"yours\", \"yourself\",\n",
        "\"yourselves\" ]\n",
        "\n",
        "vectorizer = CountVectorizer()\n",
        "X = vectorizer.fit_transform(stopwords)\n",
        "vectorizer.get_feature_names_out()"
      ],
      "metadata": {
        "colab": {
          "base_uri": "https://localhost:8080/"
        },
        "id": "_Q_i-IaL4x8z",
        "outputId": "a18944bd-2d98-4b85-fe31-42ebddf3b539"
      },
      "execution_count": null,
      "outputs": [
        {
          "output_type": "execute_result",
          "data": {
            "text/plain": [
              "array(['about', 'above', 'after', 'again', 'against', 'all', 'am', 'an',\n",
              "       'and', 'any', 'are', 'as', 'at', 'be', 'because', 'been', 'before',\n",
              "       'being', 'below', 'between', 'both', 'but', 'by', 'could', 'did',\n",
              "       'do', 'does', 'doing', 'down', 'during', 'each', 'few', 'for',\n",
              "       'from', 'further', 'had', 'has', 'have', 'having', 'he', 'her',\n",
              "       'here', 'hers', 'herself', 'him', 'himself', 'his', 'how', 'if',\n",
              "       'in', 'into', 'is', 'it', 'its', 'itself', 'let', 'll', 'me',\n",
              "       'more', 'most', 'my', 'myself', 'nor', 'of', 'on', 'once', 'only',\n",
              "       'or', 'other', 'ought', 'our', 'ours', 'ourselves', 'out', 'over',\n",
              "       'own', 're', 'same', 'she', 'should', 'so', 'some', 'such', 'than',\n",
              "       'that', 'the', 'their', 'theirs', 'them', 'themselves', 'then',\n",
              "       'there', 'these', 'they', 'this', 'those', 'through', 'to', 'too',\n",
              "       'under', 'until', 'up', 've', 'very', 'was', 'we', 'were', 'what',\n",
              "       'when', 'where', 'which', 'while', 'who', 'whom', 'why', 'with',\n",
              "       'would', 'you', 'your', 'yours', 'yourself', 'yourselves'],\n",
              "      dtype=object)"
            ]
          },
          "metadata": {},
          "execution_count": 8
        }
      ]
    },
    {
      "cell_type": "code",
      "source": [
        "print(X.toarray())"
      ],
      "metadata": {
        "colab": {
          "base_uri": "https://localhost:8080/"
        },
        "id": "ohRkExEy4z3-",
        "outputId": "551560a0-c373-4b04-f3df-e0625aba7743"
      },
      "execution_count": null,
      "outputs": [
        {
          "output_type": "stream",
          "name": "stdout",
          "text": [
            "[[0 0 0 ... 0 0 0]\n",
            " [1 0 0 ... 0 0 0]\n",
            " [0 1 0 ... 0 0 0]\n",
            " ...\n",
            " [0 0 0 ... 1 0 0]\n",
            " [0 0 0 ... 0 1 0]\n",
            " [0 0 0 ... 0 0 1]]\n"
          ]
        }
      ]
    },
    {
      "cell_type": "code",
      "source": [
        "#word2vec\n",
        "import pandas as pd\n",
        "text = pd.read_csv(\"/spam1.csv\")\n",
        "text.head()"
      ],
      "metadata": {
        "colab": {
          "base_uri": "https://localhost:8080/",
          "height": 206
        },
        "id": "QVEdrFDy41-h",
        "outputId": "4cada148-c28f-442e-db2e-6c2e27415c49"
      },
      "execution_count": null,
      "outputs": [
        {
          "output_type": "execute_result",
          "data": {
            "text/html": [
              "\n",
              "  <div id=\"df-713a99d5-2a89-4ed1-a6bc-68da6a653b42\">\n",
              "    <div class=\"colab-df-container\">\n",
              "      <div>\n",
              "<style scoped>\n",
              "    .dataframe tbody tr th:only-of-type {\n",
              "        vertical-align: middle;\n",
              "    }\n",
              "\n",
              "    .dataframe tbody tr th {\n",
              "        vertical-align: top;\n",
              "    }\n",
              "\n",
              "    .dataframe thead th {\n",
              "        text-align: right;\n",
              "    }\n",
              "</style>\n",
              "<table border=\"1\" class=\"dataframe\">\n",
              "  <thead>\n",
              "    <tr style=\"text-align: right;\">\n",
              "      <th></th>\n",
              "      <th>v1</th>\n",
              "      <th>v2</th>\n",
              "    </tr>\n",
              "  </thead>\n",
              "  <tbody>\n",
              "    <tr>\n",
              "      <th>0</th>\n",
              "      <td>spam</td>\n",
              "      <td>Free entry in 2 a wkly comp to win FA Cup fina...</td>\n",
              "    </tr>\n",
              "    <tr>\n",
              "      <th>1</th>\n",
              "      <td>spam</td>\n",
              "      <td>FreeMsg Hey there darling it's been 3 week's n...</td>\n",
              "    </tr>\n",
              "    <tr>\n",
              "      <th>2</th>\n",
              "      <td>spam</td>\n",
              "      <td>WINNER!! As a valued network customer you have...</td>\n",
              "    </tr>\n",
              "    <tr>\n",
              "      <th>3</th>\n",
              "      <td>spam</td>\n",
              "      <td>Had your mobile 11 months or more? U R entitle...</td>\n",
              "    </tr>\n",
              "    <tr>\n",
              "      <th>4</th>\n",
              "      <td>spam</td>\n",
              "      <td>SIX chances to win CASH! From 100 to 20,000 po...</td>\n",
              "    </tr>\n",
              "  </tbody>\n",
              "</table>\n",
              "</div>\n",
              "      <button class=\"colab-df-convert\" onclick=\"convertToInteractive('df-713a99d5-2a89-4ed1-a6bc-68da6a653b42')\"\n",
              "              title=\"Convert this dataframe to an interactive table.\"\n",
              "              style=\"display:none;\">\n",
              "        \n",
              "  <svg xmlns=\"http://www.w3.org/2000/svg\" height=\"24px\"viewBox=\"0 0 24 24\"\n",
              "       width=\"24px\">\n",
              "    <path d=\"M0 0h24v24H0V0z\" fill=\"none\"/>\n",
              "    <path d=\"M18.56 5.44l.94 2.06.94-2.06 2.06-.94-2.06-.94-.94-2.06-.94 2.06-2.06.94zm-11 1L8.5 8.5l.94-2.06 2.06-.94-2.06-.94L8.5 2.5l-.94 2.06-2.06.94zm10 10l.94 2.06.94-2.06 2.06-.94-2.06-.94-.94-2.06-.94 2.06-2.06.94z\"/><path d=\"M17.41 7.96l-1.37-1.37c-.4-.4-.92-.59-1.43-.59-.52 0-1.04.2-1.43.59L10.3 9.45l-7.72 7.72c-.78.78-.78 2.05 0 2.83L4 21.41c.39.39.9.59 1.41.59.51 0 1.02-.2 1.41-.59l7.78-7.78 2.81-2.81c.8-.78.8-2.07 0-2.86zM5.41 20L4 18.59l7.72-7.72 1.47 1.35L5.41 20z\"/>\n",
              "  </svg>\n",
              "      </button>\n",
              "      \n",
              "  <style>\n",
              "    .colab-df-container {\n",
              "      display:flex;\n",
              "      flex-wrap:wrap;\n",
              "      gap: 12px;\n",
              "    }\n",
              "\n",
              "    .colab-df-convert {\n",
              "      background-color: #E8F0FE;\n",
              "      border: none;\n",
              "      border-radius: 50%;\n",
              "      cursor: pointer;\n",
              "      display: none;\n",
              "      fill: #1967D2;\n",
              "      height: 32px;\n",
              "      padding: 0 0 0 0;\n",
              "      width: 32px;\n",
              "    }\n",
              "\n",
              "    .colab-df-convert:hover {\n",
              "      background-color: #E2EBFA;\n",
              "      box-shadow: 0px 1px 2px rgba(60, 64, 67, 0.3), 0px 1px 3px 1px rgba(60, 64, 67, 0.15);\n",
              "      fill: #174EA6;\n",
              "    }\n",
              "\n",
              "    [theme=dark] .colab-df-convert {\n",
              "      background-color: #3B4455;\n",
              "      fill: #D2E3FC;\n",
              "    }\n",
              "\n",
              "    [theme=dark] .colab-df-convert:hover {\n",
              "      background-color: #434B5C;\n",
              "      box-shadow: 0px 1px 3px 1px rgba(0, 0, 0, 0.15);\n",
              "      filter: drop-shadow(0px 1px 2px rgba(0, 0, 0, 0.3));\n",
              "      fill: #FFFFFF;\n",
              "    }\n",
              "  </style>\n",
              "\n",
              "      <script>\n",
              "        const buttonEl =\n",
              "          document.querySelector('#df-713a99d5-2a89-4ed1-a6bc-68da6a653b42 button.colab-df-convert');\n",
              "        buttonEl.style.display =\n",
              "          google.colab.kernel.accessAllowed ? 'block' : 'none';\n",
              "\n",
              "        async function convertToInteractive(key) {\n",
              "          const element = document.querySelector('#df-713a99d5-2a89-4ed1-a6bc-68da6a653b42');\n",
              "          const dataTable =\n",
              "            await google.colab.kernel.invokeFunction('convertToInteractive',\n",
              "                                                     [key], {});\n",
              "          if (!dataTable) return;\n",
              "\n",
              "          const docLinkHtml = 'Like what you see? Visit the ' +\n",
              "            '<a target=\"_blank\" href=https://colab.research.google.com/notebooks/data_table.ipynb>data table notebook</a>'\n",
              "            + ' to learn more about interactive tables.';\n",
              "          element.innerHTML = '';\n",
              "          dataTable['output_type'] = 'display_data';\n",
              "          await google.colab.output.renderOutput(dataTable, element);\n",
              "          const docLink = document.createElement('div');\n",
              "          docLink.innerHTML = docLinkHtml;\n",
              "          element.appendChild(docLink);\n",
              "        }\n",
              "      </script>\n",
              "    </div>\n",
              "  </div>\n",
              "  "
            ],
            "text/plain": [
              "     v1                                                 v2\n",
              "0  spam  Free entry in 2 a wkly comp to win FA Cup fina...\n",
              "1  spam  FreeMsg Hey there darling it's been 3 week's n...\n",
              "2  spam  WINNER!! As a valued network customer you have...\n",
              "3  spam  Had your mobile 11 months or more? U R entitle...\n",
              "4  spam  SIX chances to win CASH! From 100 to 20,000 po..."
            ]
          },
          "metadata": {},
          "execution_count": 11
        }
      ]
    },
    {
      "cell_type": "code",
      "source": [
        "text.shape"
      ],
      "metadata": {
        "colab": {
          "base_uri": "https://localhost:8080/"
        },
        "id": "0T8G2UTn46Rk",
        "outputId": "67d82a58-6883-4bbb-d59c-fc1d8f0d5292"
      },
      "execution_count": null,
      "outputs": [
        {
          "output_type": "execute_result",
          "data": {
            "text/plain": [
              "(513, 2)"
            ]
          },
          "metadata": {},
          "execution_count": 12
        }
      ]
    },
    {
      "cell_type": "code",
      "source": [
        "#training of word2vec\n",
        "def read_questions(row,column_name):\n",
        "    return gensim.utils.simple_preprocess(str(row[column_name]).encode('utf-8'))\n",
        "    \n",
        "documents = []\n",
        "for index, row in text.iterrows():\n",
        "    documents.append(read_questions(row,\"v1\"))\n",
        "    if row[\"v1\"] == \"spam\":\n",
        "        documents.append(read_questions(row,\"v2\"))\n",
        "\n",
        "print(\"List of lists. Let's confirm: \", type(documents), \" of \", type(documents[0]))"
      ],
      "metadata": {
        "colab": {
          "base_uri": "https://localhost:8080/"
        },
        "id": "WuoaJLTe48u0",
        "outputId": "337ce534-8e73-4e18-a88c-e2aabec7a0b3"
      },
      "execution_count": null,
      "outputs": [
        {
          "output_type": "stream",
          "name": "stdout",
          "text": [
            "List of lists. Let's confirm:  <class 'list'>  of  <class 'list'>\n"
          ]
        }
      ]
    },
    {
      "cell_type": "code",
      "source": [
        "#Model\n",
        "model = gensim.models.Word2Vec(size=150, window=10, min_count=2, sg=1, workers=10)\n",
        "model.build_vocab(documents)"
      ],
      "metadata": {
        "id": "tYyaVVqb4_g6"
      },
      "execution_count": null,
      "outputs": []
    },
    {
      "cell_type": "code",
      "source": [
        "word_vectors = model.wv\n",
        "count = 0\n",
        "for word in word_vectors.vocab:\n",
        "    if count<100:\n",
        "        print(word)\n",
        "        count += 1\n",
        "    else:\n",
        "        break"
      ],
      "metadata": {
        "colab": {
          "base_uri": "https://localhost:8080/"
        },
        "id": "3UHoHpfV5C3w",
        "outputId": "d08de59c-a365-48d6-e912-22f3d00a9468"
      },
      "execution_count": null,
      "outputs": [
        {
          "output_type": "stream",
          "name": "stdout",
          "text": [
            "spam\n",
            "free\n",
            "entry\n",
            "in\n",
            "wkly\n",
            "to\n",
            "win\n",
            "fa\n",
            "final\n",
            "st\n",
            "may\n",
            "text\n",
            "receive\n",
            "std\n",
            "txt\n",
            "rate\n",
            "apply\n",
            "over\n",
            "freemsg\n",
            "hey\n",
            "there\n",
            "it\n",
            "been\n",
            "week\n",
            "now\n",
            "and\n",
            "no\n",
            "word\n",
            "back\n",
            "like\n",
            "some\n",
            "you\n",
            "up\n",
            "for\n",
            "still\n",
            "send\n",
            "rcv\n",
            "winner\n",
            "as\n",
            "valued\n",
            "network\n",
            "customer\n",
            "have\n",
            "selected\n",
            "prize\n",
            "reward\n",
            "claim\n",
            "call\n",
            "code\n",
            "valid\n",
            "hours\n",
            "only\n",
            "had\n",
            "your\n",
            "mobile\n",
            "months\n",
            "or\n",
            "more\n",
            "entitled\n",
            "update\n",
            "the\n",
            "latest\n",
            "colour\n",
            "mobiles\n",
            "with\n",
            "camera\n",
            "co\n",
            "on\n",
            "cash\n",
            "from\n",
            "pounds\n",
            "cost\n",
            "day\n",
            "days\n",
            "reply\n",
            "hl\n",
            "info\n",
            "urgent\n",
            "won\n",
            "our\n",
            "www\n",
            "net\n",
            "pobox\n",
            "ldnw\n",
            "use\n",
            "credit\n",
            "click\n",
            "wap\n",
            "next\n",
            "message\n",
            "here\n",
            "http\n",
            "com\n",
            "england\n",
            "dont\n",
            "miss\n",
            "team\n",
            "news\n",
            "ur\n",
            "national\n"
          ]
        }
      ]
    },
    {
      "cell_type": "code",
      "source": [
        "len(word_vectors.vocab)"
      ],
      "metadata": {
        "colab": {
          "base_uri": "https://localhost:8080/"
        },
        "id": "bKSq7SrX5Gz_",
        "outputId": "69c43472-e20c-4e8c-a8c6-d8e4826b9dc9"
      },
      "execution_count": null,
      "outputs": [
        {
          "output_type": "execute_result",
          "data": {
            "text/plain": [
              "456"
            ]
          },
          "metadata": {},
          "execution_count": 16
        }
      ]
    },
    {
      "cell_type": "code",
      "source": [
        "vector = model.wv[\"ur\"]  # numpy vector of a word\n",
        "len(vector)"
      ],
      "metadata": {
        "colab": {
          "base_uri": "https://localhost:8080/"
        },
        "id": "QFX8GyXe5JZz",
        "outputId": "3767d5c9-e3be-4cf5-b42a-9d41a2f31b7d"
      },
      "execution_count": null,
      "outputs": [
        {
          "output_type": "execute_result",
          "data": {
            "text/plain": [
              "150"
            ]
          },
          "metadata": {},
          "execution_count": 19
        }
      ]
    },
    {
      "cell_type": "code",
      "source": [
        "vector"
      ],
      "metadata": {
        "id": "S7yq6e7e5aCg",
        "outputId": "e0a9fa1d-585d-4603-b291-9f6b75078797",
        "colab": {
          "base_uri": "https://localhost:8080/"
        }
      },
      "execution_count": null,
      "outputs": [
        {
          "output_type": "execute_result",
          "data": {
            "text/plain": [
              "array([ 1.8800157e-03,  8.5878361e-04, -3.1462945e-03,  7.3581294e-05,\n",
              "       -1.2865233e-03,  2.6836125e-03, -1.5166178e-04, -4.2674501e-04,\n",
              "       -9.4404671e-04, -3.2885275e-03,  1.6852898e-03, -1.8651868e-03,\n",
              "       -8.1691949e-04,  8.8860700e-04,  1.8066126e-03,  2.9454746e-03,\n",
              "        2.0767208e-03, -1.5645793e-03, -2.5212350e-03,  1.0239240e-03,\n",
              "       -2.2594340e-03, -1.1544683e-03,  2.0002315e-03, -1.7342877e-03,\n",
              "        3.0327690e-04,  2.7635521e-03,  2.9506502e-03,  1.3233812e-03,\n",
              "        2.1357143e-03, -2.9766064e-03, -2.9988859e-03,  2.3481441e-03,\n",
              "       -1.2006271e-03,  2.2308130e-03, -5.2727218e-04,  1.4596795e-04,\n",
              "       -1.9247410e-03,  4.3317990e-04, -7.8775670e-04, -9.3588058e-04,\n",
              "        1.4627987e-03,  2.2289124e-03, -2.3087973e-03, -2.5966296e-03,\n",
              "        6.1191327e-04, -1.2354398e-03, -3.2005219e-03,  7.1603770e-04,\n",
              "       -3.0232246e-03, -1.7084097e-03,  4.8107203e-04, -1.7701730e-03,\n",
              "       -1.6983654e-03,  9.4676932e-04, -1.1869681e-03,  2.3800172e-03,\n",
              "        4.8772510e-04,  9.0775389e-04,  2.4386588e-03, -1.0117160e-03,\n",
              "        2.3541583e-03, -1.9086292e-03,  1.0527167e-03, -7.6151307e-04,\n",
              "       -2.8524927e-03,  2.9090319e-03, -1.8045935e-03, -1.9805548e-03,\n",
              "       -6.1812054e-04,  1.1103986e-03,  2.4166694e-03,  3.2874325e-04,\n",
              "       -5.2840722e-04,  1.3456524e-04,  5.1747315e-04,  2.3079611e-04,\n",
              "        1.3957631e-03, -1.2005266e-03,  1.6022068e-03,  1.2784444e-03,\n",
              "       -1.4406572e-03, -2.2266051e-03,  3.3004417e-03, -2.8717623e-03,\n",
              "        6.1852462e-04,  1.4529068e-03, -2.6254314e-03,  8.2261622e-04,\n",
              "       -1.1334798e-04,  5.0194812e-04,  3.0566502e-04,  1.3781522e-04,\n",
              "       -2.8382756e-03, -1.9393503e-03, -9.3407702e-04, -1.0885593e-03,\n",
              "       -3.2724480e-03,  5.0956360e-04, -9.9762627e-05, -2.7971505e-03,\n",
              "        2.5842360e-03, -2.6881101e-03, -1.4317578e-03, -1.1599198e-03,\n",
              "       -3.2920141e-03, -2.0897491e-03, -2.7829499e-03,  1.5891417e-03,\n",
              "       -4.6234846e-04, -1.4757073e-03, -2.0909368e-03,  3.1573544e-03,\n",
              "       -8.1601378e-04,  2.8967755e-03, -2.3704122e-03,  2.4873780e-03,\n",
              "       -2.0375731e-03, -3.4519682e-05, -2.4509565e-03, -1.4737492e-03,\n",
              "       -2.0543835e-03, -2.6038166e-03, -2.8695688e-03,  1.2627721e-03,\n",
              "        1.6429005e-03, -2.8297123e-03, -2.4034710e-04,  1.8060856e-04,\n",
              "       -1.0595613e-03,  1.2042482e-03, -1.6778793e-04, -3.5756695e-04,\n",
              "        2.3074793e-03, -1.9173636e-03, -3.1878925e-03, -8.5709937e-04,\n",
              "       -1.1975652e-03,  2.9939744e-03, -2.4814296e-03,  1.8765293e-03,\n",
              "       -1.5095443e-03,  2.6128737e-03, -3.0295376e-03,  3.2301599e-03,\n",
              "       -1.3453436e-04, -1.7276249e-03, -1.8945344e-03,  1.6938281e-03,\n",
              "        2.2046347e-03,  1.3936586e-03], dtype=float32)"
            ]
          },
          "metadata": {},
          "execution_count": 20
        }
      ]
    }
  ]
}